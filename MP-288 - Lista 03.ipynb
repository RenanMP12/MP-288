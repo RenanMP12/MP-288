{
 "cells": [
  {
   "cell_type": "markdown",
   "metadata": {},
   "source": [
    "# Bibliotecas"
   ]
  },
  {
   "cell_type": "code",
   "execution_count": 1,
   "metadata": {},
   "outputs": [],
   "source": [
    "from sympy import *"
   ]
  },
  {
   "cell_type": "markdown",
   "metadata": {},
   "source": [
    "# Declaração de variáveis simbolicas"
   ]
  },
  {
   "cell_type": "code",
   "execution_count": 2,
   "metadata": {},
   "outputs": [],
   "source": [
    "l1, l2, l3, beta, ro, A, d, mm, mc, mq, z, dr, f = symbols('l1 l2 l3 beta ro A d mm mc mq z dr f')"
   ]
  },
  {
   "cell_type": "markdown",
   "metadata": {},
   "source": [
    "# Funções"
   ]
  },
  {
   "cell_type": "code",
   "execution_count": 3,
   "metadata": {},
   "outputs": [],
   "source": [
    "Iyy = 4*((d**2*mm+d**3*ro*A/3)*(sin(beta))**2 + z**2*(mm + d*ro*A)) # função objetivo \n",
    "g1  = mc + 4*(mm + d*ro*A) - mq                                     # restrição 1\n",
    "g2  = dr/2 + f - d*sin(beta)                                        # restrição 2\n",
    "g3  = dr/2 + f - d*cos(beta)                                        # restrição 3"
   ]
  },
  {
   "cell_type": "markdown",
   "metadata": {},
   "source": [
    "# Lagrangiana"
   ]
  },
  {
   "cell_type": "code",
   "execution_count": 4,
   "metadata": {},
   "outputs": [],
   "source": [
    "L = Iyy + l1*g1 + l2*g2 + l3*g3 # função lagrangiana\n",
    "dLdbeta = diff(L,beta)          # derivadas \n",
    "dLdd = diff(L,d)\n",
    "dLdl1 = diff(L,l1)\n",
    "dLdl2 = diff(L,l2)\n",
    "dLdl3 = diff(L,l3)"
   ]
  },
  {
   "cell_type": "markdown",
   "metadata": {},
   "source": [
    "# Estudo caso 1"
   ]
  },
  {
   "cell_type": "code",
   "execution_count": 5,
   "metadata": {},
   "outputs": [
    {
     "data": {
      "text/plain": [
       "[(0.523598775598299, 4674.00000000000), (2.61799387799149, 4674.00000000000)]"
      ]
     },
     "execution_count": 5,
     "metadata": {},
     "output_type": "execute_result"
    }
   ],
   "source": [
    "dLdbeta_1 = dLdbeta.subs({l3:0, d:15, mm: 59, A: 1.4, ro: 2.7, z:3, mc: 600, dr:12, f:1.5})\n",
    "dLdl2_1 = dLdl2.subs({d: 15, mm: 59, A: 1.4, ro: 2.7, z:3, mc: 600, dr:12, f:1.5})\n",
    "\n",
    "system = [dLdbeta_1, dLdl2_1]\n",
    "vars = [beta, l2]\n",
    "resultado1 = solve(system, vars) # solução do caso 1\n",
    "dLdl1_ = dLdl1.subs({l3:0, d:15, mm: 59, A: 1.4, ro: 2.7, z:3, mc: 600, dr:12, f:1.5, mq: 1150, l2: resultado1[0][1], beta: resultado1[0][0]})\n",
    "dLdl3_ = dLdl3.subs({l3:0, d:15, mm: 59, A: 1.4, ro: 2.7, z:3, mc: 600, dr:12, f:1.5, l2: resultado1[0][1], beta: resultado1[0][0]})\n",
    "dLdd_1 = dLdd.subs({l1:0, l3:0, d: 15, mm: 59, A: 1.4, ro: 2.7, z:3, mc: 600, dr:12, f:1.5, l2: resultado1[0][1], beta: resultado1[0][0]})\n",
    "resultado1"
   ]
  },
  {
   "cell_type": "markdown",
   "metadata": {},
   "source": [
    "# Estudo caso 2"
   ]
  },
  {
   "cell_type": "code",
   "execution_count": 6,
   "metadata": {},
   "outputs": [
    {
     "data": {
      "text/plain": [
       "[(20.7671957671958, 0.369497076386780, -27.7500000000000, 5110.00000000000),\n",
       " (20.7671957671958, 2.77209557720301, -27.7500000000000, 5110.00000000000)]"
      ]
     },
     "execution_count": 6,
     "metadata": {},
     "output_type": "execute_result"
    }
   ],
   "source": [
    "dLdbeta_2 = dLdbeta.subs({l3:0, mm: 59, A: 1.4, ro: 2.7, z:3, mc: 600, dr:12, f:1.5, mq: 1150})\n",
    "dLdd_2 = dLdd.subs({l3:0, mm: 59, A: 1.4, ro: 2.7, z:3, mc: 600, dr:12, f:1.5, mq: 1150})\n",
    "dLdl1_2 = dLdl1.subs({l3:0, mm: 59, A: 1.4, ro: 2.7, z:3, mc: 600, dr:12, f:1.5, mq: 1150})\n",
    "dLdl2_2 = dLdl2.subs({l3:0, mm: 59, A: 1.4, ro: 2.7, z:3, mc: 600, dr:12, f:1.5, mq: 1150})\n",
    "\n",
    "system = [dLdbeta_2, dLdd_2, dLdl1_2, dLdl2_2]\n",
    "vars = [d, beta, l1, l2]\n",
    "solve(system, vars)"
   ]
  },
  {
   "cell_type": "markdown",
   "metadata": {},
   "source": [
    "# Estudo caso 3"
   ]
  },
  {
   "cell_type": "code",
   "execution_count": 7,
   "metadata": {},
   "outputs": [
    {
     "data": {
      "text/plain": [
       "[(-7.50000000000000, -1.57079632679490, 2553.42000000000),\n",
       " (7.50000000000000, 1.57079632679490, 4526.58000000000)]"
      ]
     },
     "execution_count": 7,
     "metadata": {},
     "output_type": "execute_result"
    }
   ],
   "source": [
    "dLdbeta_3 = dLdbeta.subs({l1:0, l3:0, mm: 59, A: 1.4, ro: 2.7, z:3, mc: 600, dr:12, f:1.5})\n",
    "dLdd_3 = dLdd.subs({l1:0, l3:0, mm: 59, A: 1.4, ro: 2.7, z:3, mc: 600, dr:12, f:1.5})\n",
    "dLdl2_3 = dLdl2.subs({l1:0, l3:0, mm: 59, A: 1.4, ro: 2.7, z:3, mc: 600, dr:12, f:1.5})\n",
    "\n",
    "system = [dLdbeta_3, dLdd_3, dLdl2_3]\n",
    "vars = [d, beta, l2]\n",
    "solve(system, vars)"
   ]
  },
  {
   "cell_type": "code",
   "execution_count": 8,
   "metadata": {},
   "outputs": [
    {
     "data": {
      "text/latex": [
       "$\\displaystyle 21692.7$"
      ],
      "text/plain": [
       "21692.7000000000"
      ]
     },
     "execution_count": 8,
     "metadata": {},
     "output_type": "execute_result"
    }
   ],
   "source": [
    "Iyy_min = Iyy.subs({d:15, mm: 59, A: 1.4, ro: 2.7, z:3, mc: 600, dr:12, f:1.5, beta: resultado1[0][0]})\n",
    "Iyy_min"
   ]
  }
 ],
 "metadata": {
  "kernelspec": {
   "display_name": "Python 3",
   "language": "python",
   "name": "python3"
  },
  "language_info": {
   "codemirror_mode": {
    "name": "ipython",
    "version": 3
   },
   "file_extension": ".py",
   "mimetype": "text/x-python",
   "name": "python",
   "nbconvert_exporter": "python",
   "pygments_lexer": "ipython3",
   "version": "3.7.6"
  }
 },
 "nbformat": 4,
 "nbformat_minor": 4
}
