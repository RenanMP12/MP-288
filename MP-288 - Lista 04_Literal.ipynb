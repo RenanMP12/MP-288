{
 "cells": [
  {
   "cell_type": "markdown",
   "metadata": {},
   "source": [
    "# Biblioteca"
   ]
  },
  {
   "cell_type": "code",
   "execution_count": 1,
   "metadata": {},
   "outputs": [],
   "source": [
    "from sympy import *"
   ]
  },
  {
   "cell_type": "markdown",
   "metadata": {},
   "source": [
    "# Declaração de variáveis"
   ]
  },
  {
   "cell_type": "code",
   "execution_count": 2,
   "metadata": {},
   "outputs": [],
   "source": [
    "x, x0, y, y0, alfa = symbols('x x0 y y0 alfa')"
   ]
  },
  {
   "cell_type": "markdown",
   "metadata": {},
   "source": [
    "# Questão 01"
   ]
  },
  {
   "cell_type": "code",
   "execution_count": 3,
   "metadata": {},
   "outputs": [],
   "source": [
    "f = 10*x**4 - 20*x**2*y + 10*y**2 + x**2 - 2*x + 5 # função objetivo multidirecional\n",
    "# f = 3*(x-2)**2 + 3*(y-3)**2 -6*x"
   ]
  },
  {
   "cell_type": "code",
   "execution_count": 4,
   "metadata": {},
   "outputs": [
    {
     "data": {
      "text/latex": [
       "$\\displaystyle \\left[\\begin{matrix}x\\\\y\\end{matrix}\\right]$"
      ],
      "text/plain": [
       "Matrix([\n",
       "[x],\n",
       "[y]])"
      ]
     },
     "execution_count": 4,
     "metadata": {},
     "output_type": "execute_result"
    }
   ],
   "source": [
    "partial = Matrix([[x],[y]])                        # gradiente da função objetivo\n",
    "partial"
   ]
  },
  {
   "cell_type": "code",
   "execution_count": 5,
   "metadata": {},
   "outputs": [
    {
     "data": {
      "text/latex": [
       "$\\displaystyle \\left[\\begin{matrix}40 x^{3} - 40 x y + 2 x - 2\\\\- 20 x^{2} + 20 y\\end{matrix}\\right]$"
      ],
      "text/plain": [
       "Matrix([\n",
       "[40*x**3 - 40*x*y + 2*x - 2],\n",
       "[           -20*x**2 + 20*y]])"
      ]
     },
     "execution_count": 5,
     "metadata": {},
     "output_type": "execute_result"
    }
   ],
   "source": [
    "gradf = diff(f,partial)\n",
    "gradf"
   ]
  },
  {
   "cell_type": "code",
   "execution_count": 6,
   "metadata": {},
   "outputs": [
    {
     "data": {
      "text/latex": [
       "$\\displaystyle \\left[\\begin{matrix}40 x_{0}^{3} - 40 x_{0} y_{0} + 2 x_{0} - 2\\\\- 20 x_{0}^{2} + 20 y_{0}\\end{matrix}\\right]$"
      ],
      "text/plain": [
       "Matrix([\n",
       "[40*x0**3 - 40*x0*y0 + 2*x0 - 2],\n",
       "[             -20*x0**2 + 20*y0]])"
      ]
     },
     "execution_count": 6,
     "metadata": {},
     "output_type": "execute_result"
    }
   ],
   "source": [
    "gradf = gradf.subs({x: x0, y: y0}) \n",
    "gradf"
   ]
  },
  {
   "cell_type": "code",
   "execution_count": 7,
   "metadata": {},
   "outputs": [
    {
     "data": {
      "text/latex": [
       "$\\displaystyle \\left[\\begin{matrix}x_{0}\\\\y_{0}\\end{matrix}\\right]$"
      ],
      "text/plain": [
       "Matrix([\n",
       "[x0],\n",
       "[y0]])"
      ]
     },
     "execution_count": 7,
     "metadata": {},
     "output_type": "execute_result"
    }
   ],
   "source": [
    "initial = Matrix([[x0],[y0]])                      # ponto inicial\n",
    "initial"
   ]
  },
  {
   "cell_type": "code",
   "execution_count": 8,
   "metadata": {},
   "outputs": [
    {
     "data": {
      "text/latex": [
       "$\\displaystyle \\left[\\begin{matrix}- alfa \\left(40 x_{0}^{3} - 40 x_{0} y_{0} + 2 x_{0} - 2\\right) + x_{0}\\\\- alfa \\left(- 20 x_{0}^{2} + 20 y_{0}\\right) + y_{0}\\end{matrix}\\right]$"
      ],
      "text/plain": [
       "Matrix([\n",
       "[-alfa*(40*x0**3 - 40*x0*y0 + 2*x0 - 2) + x0],\n",
       "[             -alfa*(-20*x0**2 + 20*y0) + y0]])"
      ]
     },
     "execution_count": 8,
     "metadata": {},
     "output_type": "execute_result"
    }
   ],
   "source": [
    "k_esimo = initial - alfa*gradf                     # k-ésimo ponto\n",
    "k_esimo"
   ]
  },
  {
   "cell_type": "code",
   "execution_count": 9,
   "metadata": {},
   "outputs": [
    {
     "data": {
      "text/latex": [
       "$\\displaystyle 2 alfa \\left(40 x_{0}^{3} - 40 x_{0} y_{0} + 2 x_{0} - 2\\right) - 2 x_{0} + 10 \\left(- alfa \\left(- 20 x_{0}^{2} + 20 y_{0}\\right) + y_{0}\\right)^{2} - 20 \\left(- alfa \\left(- 20 x_{0}^{2} + 20 y_{0}\\right) + y_{0}\\right) \\left(- alfa \\left(40 x_{0}^{3} - 40 x_{0} y_{0} + 2 x_{0} - 2\\right) + x_{0}\\right)^{2} + 10 \\left(- alfa \\left(40 x_{0}^{3} - 40 x_{0} y_{0} + 2 x_{0} - 2\\right) + x_{0}\\right)^{4} + \\left(- alfa \\left(40 x_{0}^{3} - 40 x_{0} y_{0} + 2 x_{0} - 2\\right) + x_{0}\\right)^{2} + 5$"
      ],
      "text/plain": [
       "2*alfa*(40*x0**3 - 40*x0*y0 + 2*x0 - 2) - 2*x0 + 10*(-alfa*(-20*x0**2 + 20*y0) + y0)**2 - 20*(-alfa*(-20*x0**2 + 20*y0) + y0)*(-alfa*(40*x0**3 - 40*x0*y0 + 2*x0 - 2) + x0)**2 + 10*(-alfa*(40*x0**3 - 40*x0*y0 + 2*x0 - 2) + x0)**4 + (-alfa*(40*x0**3 - 40*x0*y0 + 2*x0 - 2) + x0)**2 + 5"
      ]
     },
     "execution_count": 9,
     "metadata": {},
     "output_type": "execute_result"
    }
   ],
   "source": [
    "f_alfa = f.subs({x: k_esimo[0], y: k_esimo[1]})    # função objetivo unidirecional\n",
    "f_alfa"
   ]
  },
  {
   "cell_type": "code",
   "execution_count": 10,
   "metadata": {},
   "outputs": [
    {
     "data": {
      "text/latex": [
       "$\\displaystyle 80 x_{0}^{3} - 80 x_{0} y_{0} + 4 x_{0} - 20 \\left(20 x_{0}^{2} - 20 y_{0}\\right) \\left(- alfa \\left(40 x_{0}^{3} - 40 x_{0} y_{0} + 2 x_{0} - 2\\right) + x_{0}\\right)^{2} + 10 \\left(40 x_{0}^{2} - 40 y_{0}\\right) \\left(- alfa \\left(- 20 x_{0}^{2} + 20 y_{0}\\right) + y_{0}\\right) - 20 \\left(- alfa \\left(- 20 x_{0}^{2} + 20 y_{0}\\right) + y_{0}\\right) \\left(- alfa \\left(40 x_{0}^{3} - 40 x_{0} y_{0} + 2 x_{0} - 2\\right) + x_{0}\\right) \\left(- 80 x_{0}^{3} + 80 x_{0} y_{0} - 4 x_{0} + 4\\right) + 10 \\left(- alfa \\left(40 x_{0}^{3} - 40 x_{0} y_{0} + 2 x_{0} - 2\\right) + x_{0}\\right)^{3} \\left(- 160 x_{0}^{3} + 160 x_{0} y_{0} - 8 x_{0} + 8\\right) + \\left(- alfa \\left(40 x_{0}^{3} - 40 x_{0} y_{0} + 2 x_{0} - 2\\right) + x_{0}\\right) \\left(- 80 x_{0}^{3} + 80 x_{0} y_{0} - 4 x_{0} + 4\\right) - 4$"
      ],
      "text/plain": [
       "80*x0**3 - 80*x0*y0 + 4*x0 - 20*(20*x0**2 - 20*y0)*(-alfa*(40*x0**3 - 40*x0*y0 + 2*x0 - 2) + x0)**2 + 10*(40*x0**2 - 40*y0)*(-alfa*(-20*x0**2 + 20*y0) + y0) - 20*(-alfa*(-20*x0**2 + 20*y0) + y0)*(-alfa*(40*x0**3 - 40*x0*y0 + 2*x0 - 2) + x0)*(-80*x0**3 + 80*x0*y0 - 4*x0 + 4) + 10*(-alfa*(40*x0**3 - 40*x0*y0 + 2*x0 - 2) + x0)**3*(-160*x0**3 + 160*x0*y0 - 8*x0 + 8) + (-alfa*(40*x0**3 - 40*x0*y0 + 2*x0 - 2) + x0)*(-80*x0**3 + 80*x0*y0 - 4*x0 + 4) - 4"
      ]
     },
     "execution_count": 10,
     "metadata": {},
     "output_type": "execute_result"
    }
   ],
   "source": [
    "df_alfad_alfa = diff(f_alfa, alfa)                 # gradiente da função objetivo unidirecional\n",
    "df_alfad_alfa"
   ]
  },
  {
   "cell_type": "code",
   "execution_count": 11,
   "metadata": {},
   "outputs": [
    {
     "data": {
      "text/latex": [
       "$\\displaystyle 7700.0 alfa + 1600.0 \\left(3 - 15.0 alfa\\right) \\left(- 40.0 alfa - 1.5\\right) - 102400000.0 \\left(- alfa - 0.0375\\right)^{3} + 480000.0 \\left(- alfa - 0.0375\\right)^{2} - 700.0$"
      ],
      "text/plain": [
       "7700.0*alfa + 1600.0*(3 - 15.0*alfa)*(-40.0*alfa - 1.5) - 102400000.0*(-alfa - 0.0375)**3 + 480000.0*(-alfa - 0.0375)**2 - 700.0"
      ]
     },
     "execution_count": 11,
     "metadata": {},
     "output_type": "execute_result"
    }
   ],
   "source": [
    "df_alfa = df_alfad_alfa.subs({x0: -1.5,y0: 3})     \n",
    "df_alfa"
   ]
  },
  {
   "cell_type": "code",
   "execution_count": 12,
   "metadata": {},
   "outputs": [
    {
     "data": {
      "text/plain": [
       "[-0.0894180502997565 + 0.e-22*I,\n",
       " -0.0419012088622178 + 0.e-24*I,\n",
       " 0.00475675916197423 - 0.e-24*I]"
      ]
     },
     "execution_count": 12,
     "metadata": {},
     "output_type": "execute_result"
    }
   ],
   "source": [
    "sol = solve(df_alfa, alfa)\n",
    "sol"
   ]
  },
  {
   "cell_type": "code",
   "execution_count": 13,
   "metadata": {},
   "outputs": [
    {
     "data": {
      "text/latex": [
       "$\\displaystyle 11.2888699483038$"
      ],
      "text/plain": [
       "11.2888699483038"
      ]
     },
     "execution_count": 13,
     "metadata": {},
     "output_type": "execute_result"
    }
   ],
   "source": [
    "f_alfa.subs({x0: -1.5, y0: 3, alfa: re(sol[2])})"
   ]
  },
  {
   "cell_type": "code",
   "execution_count": 14,
   "metadata": {},
   "outputs": [
    {
     "data": {
      "text/latex": [
       "$\\displaystyle 0.00475675916197423$"
      ],
      "text/plain": [
       "0.00475675916197423"
      ]
     },
     "execution_count": 14,
     "metadata": {},
     "output_type": "execute_result"
    }
   ],
   "source": [
    "re(sol[2])"
   ]
  },
  {
   "cell_type": "code",
   "execution_count": 16,
   "metadata": {},
   "outputs": [
    {
     "data": {
      "text/latex": [
       "$\\displaystyle 11.2888699483038$"
      ],
      "text/plain": [
       "11.2888699483038"
      ]
     },
     "execution_count": 16,
     "metadata": {},
     "output_type": "execute_result"
    }
   ],
   "source": [
    "f_alfa.subs({x0: -1.5, y0: 3, alfa: 0.00475675916197423})"
   ]
  },
  {
   "cell_type": "code",
   "execution_count": null,
   "metadata": {},
   "outputs": [],
   "source": []
  }
 ],
 "metadata": {
  "kernelspec": {
   "display_name": "Python 3",
   "language": "python",
   "name": "python3"
  },
  "language_info": {
   "codemirror_mode": {
    "name": "ipython",
    "version": 3
   },
   "file_extension": ".py",
   "mimetype": "text/x-python",
   "name": "python",
   "nbconvert_exporter": "python",
   "pygments_lexer": "ipython3",
   "version": "3.7.6"
  }
 },
 "nbformat": 4,
 "nbformat_minor": 4
}
