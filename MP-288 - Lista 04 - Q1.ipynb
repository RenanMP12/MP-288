{
 "cells": [
  {
   "cell_type": "markdown",
   "metadata": {},
   "source": [
    "# Bibliotecas"
   ]
  },
  {
   "cell_type": "code",
   "execution_count": 1,
   "metadata": {},
   "outputs": [],
   "source": [
    "import math    \n",
    "import numpy as np\n",
    "import matplotlib.pyplot as plt\n",
    "from numpy import linalg as LA"
   ]
  },
  {
   "cell_type": "markdown",
   "metadata": {},
   "source": [
    "### Funções"
   ]
  },
  {
   "cell_type": "code",
   "execution_count": 2,
   "metadata": {},
   "outputs": [],
   "source": [
    "def gradient(f, x, y, h = 1e-6):                             # gradient function\n",
    "    gradf = np.zeros((2,1))\n",
    "    gradf[0] = np.imag(f(complex(x,h),y))/h\n",
    "    gradf[1] = np.imag(f(x,complex(y,h)))/h\n",
    "    return gradf\n",
    "\n",
    "def delta_cte(f, delta, x0, y0, epsilon):                    # Line search\n",
    "    \n",
    "    # Phase 01\n",
    "    \n",
    "    counter = 1\n",
    "    total = 0\n",
    "    \n",
    "    f_0 = f(x_0,y_0)\n",
    "    gradf = -gradient(f, x_0, y_0)\n",
    "    alfa_m = np.zeros(3)\n",
    "    \n",
    "    cond = True\n",
    "    \n",
    "    while cond:\n",
    "        total = total + 1\n",
    "        alfa = delta*counter\n",
    "        x = x0 + alfa*gradf[0][0]\n",
    "        y = y0 + alfa*gradf[1][0]\n",
    "        f_1 = f(x,y)\n",
    "        print(\"Iteraction {0:5d}: f(x) = {1:8.4f}, alfa = {2:8.4f}.\".format(counter, f_1, alfa))\n",
    "        if f_1 < f_0:\n",
    "            f_0 = f_1\n",
    "            counter = counter + 1\n",
    "            alfa_m[0] = alfa_m[1]\n",
    "            alfa_m[1] = alfa_m[2]\n",
    "            alfa_m[2] = alfa\n",
    "        else:\n",
    "            counter = 1\n",
    "            cond = False\n",
    "            alfa_m[0] = alfa_m[1]\n",
    "            alfa_m[1] = alfa_m[2]\n",
    "            alfa_m[2] = alfa \n",
    "\n",
    "    # Phase 02\n",
    "\n",
    "    r = 0.1\n",
    "    delta = delta*r\n",
    "    cond = True\n",
    "    alfa_0 = alfa_m[0]\n",
    "    alfa_m = np.zeros(3)\n",
    "    x = x_0 + alfa_0*gradf[0][0]\n",
    "    y = y_0 + alfa_0*gradf[1][0]\n",
    "    f_0 = f(x,y)\n",
    "    i = 1\n",
    "    while cond:\n",
    "        total = total + 1\n",
    "        alfa = alfa_0 + delta*counter\n",
    "        x = x0 + alfa*gradf[0][0]\n",
    "        y = y0 + alfa*gradf[1][0]\n",
    "        f_1 = f(x,y)\n",
    "        print(\"Iteraction {0:5d}: f(x) = {1:8.4f}, alfa = {2:8.4f}.\".format(counter, f_1, alfa))\n",
    "        if f_1 < f_0:\n",
    "            f_0 = f_1\n",
    "            counter = counter + 1\n",
    "            alfa_m[0] = alfa_m[1]\n",
    "            alfa_m[1] = alfa_m[2]\n",
    "            alfa_m[2] = alfa\n",
    "        elif f_1 > f_0 and (alfa_m[2] - alfa_m[0]) > epsilon:\n",
    "            delta = r*delta\n",
    "            alfa_m[0] = alfa_m[1]\n",
    "            alfa_m[1] = alfa_m[2]\n",
    "            alfa_m[2] = alfa\n",
    "            alfa_0 = alfa_m[0]\n",
    "            counter = 1\n",
    "            i = i + 1\n",
    "            print(\"Phase {0:5d}\".format(i))\n",
    "        elif f_1 > f_0 and (alfa_m[2] - alfa_m[0]) < epsilon: \n",
    "            cond = False\n",
    "            alfa = alfa_m[1]\n",
    "            x = x0 + alfa*gradf[0][0]\n",
    "            y = y0 + alfa*gradf[1][0]\n",
    "            f_1 = f(x,y)\n",
    "    \n",
    "    print(\"Number of iteractions = {0:5d}.\".format(total))\n",
    "\n",
    "    return alfa\n",
    "\n",
    "def delta_alt(f, delta, x0, y0, epsilon):                    # Line search alternative\n",
    "    # Phase 01\n",
    "    print(\"Phase 1\")    \n",
    "\n",
    "    counter = 1\n",
    "    total = 0\n",
    "    \n",
    "    f_0 = f(x_0,y_0)\n",
    "    gradf = -gradient(f, x_0, y_0)\n",
    "    alfa_m = np.zeros(3)\n",
    "    \n",
    "    cond = True\n",
    "    \n",
    "    while cond:\n",
    "        total = total + 1\n",
    "        alfa = delta*counter\n",
    "        x = x0 + alfa*gradf[0][0]\n",
    "        y = y0 + alfa*gradf[1][0]\n",
    "        f_1 = f(x,y)\n",
    "        print(\"Iteraction {0:5d}: f(x) = {1:8.4f}, alfa = {2:8.4f}.\".format(counter, f_1, alfa))\n",
    "        if f_1 < f_0:\n",
    "            f_0 = f_1\n",
    "            counter = counter + 1\n",
    "            alfa_m[0] = alfa_m[1]\n",
    "            alfa_m[1] = alfa_m[2]\n",
    "            alfa_m[2] = alfa\n",
    "        else:\n",
    "            counter = 1\n",
    "            cond = False\n",
    "            alfa_m[0] = alfa_m[1]\n",
    "            alfa_m[1] = alfa_m[2]\n",
    "            alfa_m[2] = alfa \n",
    "\n",
    "    # Phase 02\n",
    "    \n",
    "    cond = True\n",
    "    alfa_range = np.array([alfa_m[0], alfa_m[2]])\n",
    "    \n",
    "    while cond:\n",
    "        total = total + 1\n",
    "        I = alfa_range[1] - alfa_range[0]\n",
    "        alfa_a = alfa_range[0] + I/3\n",
    "        alfa_b = alfa_range[0] + 2*I/3\n",
    "        \n",
    "        x_a = x0 + alfa_a*gradf[0][0]\n",
    "        y_a = y0 + alfa_a*gradf[1][0]\n",
    "        \n",
    "        x_b = x0 + alfa_b*gradf[0][0]\n",
    "        y_b = y0 + alfa_b*gradf[1][0]\n",
    "        \n",
    "        f_a = f(x_a,y_a)\n",
    "        f_b = f(x_b,y_b)\n",
    "        \n",
    "        print(\"Iteraction {0:5d}: alfa a = {1:8.2f}, alfa b = {2:8.2f}\".format(counter, alfa_a, alfa_b))\n",
    "        \n",
    "        if f_a > f_b and I > epsilon:\n",
    "            alfa_range[0] = alfa_a\n",
    "            \n",
    "        elif f_a < f_b and I > epsilon:\n",
    "            alfa_range[1] = alfa_b\n",
    "            \n",
    "        elif I < epsilon:\n",
    "            cond = False\n",
    "            alfa = (alfa_a + alfa_b)/2\n",
    "            x = x0 + alfa*gradf[0][0]\n",
    "            y = y0 + alfa*gradf[1][0]\n",
    "            f_1 = f(x,y)\n",
    "    \n",
    "    print(\"Number of iteractions = {0:5d}.\".format(total))\n",
    "    \n",
    "    return alfa\n",
    "\n",
    "\n",
    "def golden_method(f, delta, x0, y0, epsilon):                    # Golden section method\n",
    "    \n",
    "    gsm = (math.sqrt(5) + 1)/2                          \n",
    "    \n",
    "    # Phase 01\n",
    "    \n",
    "    total = 0\n",
    "    counter = 0\n",
    "    f_0 = f(x0,y0)\n",
    "    cond = True\n",
    "    gradf = -gradient(f, x0, y0)\n",
    "    alfa_m = np.zeros(3)\n",
    "    alfa = 0\n",
    "    \n",
    "    while cond:\n",
    "        total = total + 1\n",
    "        \n",
    "        alfa = alfa + delta*gsm**counter\n",
    "        x = x0 + alfa*gradf[0][0]\n",
    "        y = y0 + alfa*gradf[1][0]\n",
    "        f_1 = f(x,y)\n",
    "        \n",
    "        if f_1 < f_0:\n",
    "            f_0 = f_1\n",
    "            counter = counter + 1\n",
    "            alfa_m[0] = alfa_m[1]\n",
    "            alfa_m[1] = alfa_m[2]\n",
    "            alfa_m[2] = alfa\n",
    "        else:\n",
    "            counter = 0    \n",
    "            cond = False\n",
    "            alfa_m[0] = alfa_m[1]\n",
    "            alfa_m[1] = alfa_m[2]\n",
    "            alfa_m[2] = alfa  \n",
    "            \n",
    "     # Phase 02\n",
    "    \n",
    "    alfa_range = np.array([alfa_m[0], alfa_m[2]])\n",
    "    cond = True\n",
    "    \n",
    "    while cond:\n",
    "        total = total + 1\n",
    "        counter = counter + 1\n",
    "        \n",
    "        I = alfa_range[1] - alfa_range[0]\n",
    "        \n",
    "        alfa_a = alfa_range[0] + (1 - 1/gsm)*I\n",
    "        \n",
    "        x_a = x0 + alfa_a*gradf[0][0]\n",
    "        y_a = y0 + alfa_a*gradf[1][0]\n",
    "        \n",
    "        f_a = f(x_a,y_a)\n",
    "        \n",
    "        alfa_b = alfa_range[0] + 1/gsm*I\n",
    "        \n",
    "        x_b = x0 + alfa_b*gradf[0][0]\n",
    "        y_b = y0 + alfa_b*gradf[1][0]\n",
    "        \n",
    "        f_b = f(x_b,y_b)\n",
    "        \n",
    "        print(\"Iteraction {0:5d}: alfa a = {1:8.2f}, alfa b = {2:8.2f}\".format(counter, alfa_a, alfa_b))\n",
    "        \n",
    "        if f_a > f_b and I > epsilon:\n",
    "            alfa_range[0] = alfa_a\n",
    "            \n",
    "        elif f_a < f_b and I > epsilon:\n",
    "            alfa_range[1] = alfa_b\n",
    "            \n",
    "        elif I < epsilon:\n",
    "            cond = False\n",
    "            alfa = (alfa_a + alfa_b)/2\n",
    "            x = x0 + alfa*gradf[0][0]\n",
    "            y = y0 + alfa*gradf[1][0]\n",
    "            f_1 = f(x,y)\n",
    "    \n",
    "    print(\"Number of iteractions = {0:5d}.\".format(total))\n",
    "    \n",
    "    return alfa"
   ]
  },
  {
   "cell_type": "code",
   "execution_count": 3,
   "metadata": {},
   "outputs": [],
   "source": [
    "def f(x,y):                                         # objective function \n",
    "    f = 10*x**4 - 20*x**2*y + 10*y**2 + x**2 - 2*x + 5\n",
    "    return f\n",
    "\n",
    "x_0 = -1.5\n",
    "y_0 = 3\n",
    "\n",
    "delta = 0.001\n",
    "epsilon = 2e-4"
   ]
  },
  {
   "cell_type": "code",
   "execution_count": 4,
   "metadata": {},
   "outputs": [
    {
     "name": "stdout",
     "output_type": "stream",
     "text": [
      "Phase 1\n",
      "Iteraction     1: f(x) =  14.2142, alfa =   0.0010.\n",
      "Iteraction     2: f(x) =  12.8994, alfa =   0.0020.\n",
      "Iteraction     3: f(x) =  11.9574, alfa =   0.0030.\n",
      "Iteraction     4: f(x) =  11.4156, alfa =   0.0040.\n",
      "Iteraction     5: f(x) =  11.3023, alfa =   0.0050.\n",
      "Iteraction     6: f(x) =  11.6459, alfa =   0.0060.\n",
      "Iteraction     1: f(x) =  11.3846, alfa =   0.0041.\n",
      "Iteraction     2: f(x) =  11.3578, alfa =   0.0042.\n",
      "Iteraction     3: f(x) =  11.3353, alfa =   0.0043.\n",
      "Iteraction     4: f(x) =  11.3173, alfa =   0.0044.\n",
      "Iteraction     5: f(x) =  11.3036, alfa =   0.0045.\n",
      "Iteraction     6: f(x) =  11.2944, alfa =   0.0046.\n",
      "Iteraction     7: f(x) =  11.2896, alfa =   0.0047.\n",
      "Iteraction     8: f(x) =  11.2893, alfa =   0.0048.\n",
      "Iteraction     9: f(x) =  11.2935, alfa =   0.0049.\n",
      "Phase     2\n",
      "Iteraction     1: f(x) =  11.2894, alfa =   0.0047.\n",
      "Number of iteractions =    32.\n"
     ]
    },
    {
     "data": {
      "text/plain": [
       "0.0048000000000000004"
      ]
     },
     "execution_count": 4,
     "metadata": {},
     "output_type": "execute_result"
    }
   ],
   "source": [
    "delta_cte(f, delta, x_0, y_0, epsilon) "
   ]
  },
  {
   "cell_type": "code",
   "execution_count": 5,
   "metadata": {},
   "outputs": [
    {
     "name": "stdout",
     "output_type": "stream",
     "text": [
      "Phase 1\n",
      "Iteraction     1: f(x) =  14.2142, alfa =   0.0010.\n",
      "Iteraction     2: f(x) =  12.8994, alfa =   0.0020.\n",
      "Iteraction     3: f(x) =  11.9574, alfa =   0.0030.\n",
      "Iteraction     4: f(x) =  11.4156, alfa =   0.0040.\n",
      "Iteraction     5: f(x) =  11.3023, alfa =   0.0050.\n",
      "Iteraction     6: f(x) =  11.6459, alfa =   0.0060.\n",
      "Iteraction     1: alfa a =     0.00, alfa b =     0.01\n",
      "Iteraction     1: alfa a =     0.00, alfa b =     0.00\n",
      "Iteraction     1: alfa a =     0.00, alfa b =     0.01\n",
      "Iteraction     1: alfa a =     0.00, alfa b =     0.00\n",
      "Iteraction     1: alfa a =     0.00, alfa b =     0.00\n",
      "Iteraction     1: alfa a =     0.00, alfa b =     0.00\n",
      "Iteraction     1: alfa a =     0.00, alfa b =     0.00\n",
      "Number of iteractions =    19.\n"
     ]
    },
    {
     "data": {
      "text/plain": [
       "0.004729766803840877"
      ]
     },
     "execution_count": 5,
     "metadata": {},
     "output_type": "execute_result"
    }
   ],
   "source": [
    "delta_alt(f, delta, x_0, y_0, epsilon)"
   ]
  },
  {
   "cell_type": "code",
   "execution_count": 6,
   "metadata": {},
   "outputs": [
    {
     "name": "stdout",
     "output_type": "stream",
     "text": [
      "Iteraction     1: alfa a =     0.01, alfa b =     0.01\n",
      "Iteraction     2: alfa a =     0.00, alfa b =     0.01\n",
      "Iteraction     3: alfa a =     0.01, alfa b =     0.01\n",
      "Iteraction     4: alfa a =     0.00, alfa b =     0.01\n",
      "Iteraction     5: alfa a =     0.00, alfa b =     0.00\n",
      "Iteraction     6: alfa a =     0.00, alfa b =     0.00\n",
      "Iteraction     7: alfa a =     0.00, alfa b =     0.00\n",
      "Iteraction     8: alfa a =     0.00, alfa b =     0.00\n",
      "Iteraction     9: alfa a =     0.00, alfa b =     0.00\n",
      "Number of iteractions =    13.\n"
     ]
    },
    {
     "data": {
      "text/plain": [
       "0.004781152949374526"
      ]
     },
     "execution_count": 6,
     "metadata": {},
     "output_type": "execute_result"
    }
   ],
   "source": [
    "golden_method(f, delta, x_0, y_0, epsilon)"
   ]
  },
  {
   "cell_type": "code",
   "execution_count": 7,
   "metadata": {},
   "outputs": [
    {
     "data": {
      "image/png": "[encoded data removed]",
      "text/plain": [
       "<Figure size 1440x864 with 1 Axes>"
      ]
     },
     "metadata": {
      "needs_background": "light"
     },
     "output_type": "display_data"
    }
   ],
   "source": [
    "x = np.linspace(0.004,0.005, 1000)\n",
    "y = np.zeros(1000)\n",
    "y[:] = 11.2889\n",
    "f = 10*(-1.5 - 40*x)**4 - 20*(-1.5 - 40*x)**2*(3 - 15*x) + 10*(3 - 15*x)**2 + (-1.5 - 40*x)**2 - 2*(-1.5 - 40*x) + 5\n",
    "fig, ax = plt.subplots()\n",
    "fig.set_size_inches(20, 12)\n",
    "plt.plot(x, f)\n",
    "plt.grid()\n",
    "plt.xlabel(r'$\\alpha$', Fontsize = 20)\n",
    "plt.xticks(fontsize=20)\n",
    "plt.xlim(0.004, 0.005)\n",
    "plt.ylabel(r'f($\\alpha$)', Fontsize = 20)\n",
    "plt.yticks(fontsize=20)\n",
    "fig.savefig('mp_288_1.png',dpi=300)                              # salvar figura como png (dpi = número de pixels)"
   ]
  },
  {
   "cell_type": "code",
   "execution_count": null,
   "metadata": {},
   "outputs": [],
   "source": []
  }
 ],
 "metadata": {
  "kernelspec": {
   "display_name": "Python 3",
   "language": "python",
   "name": "python3"
  },
  "language_info": {
   "codemirror_mode": {
    "name": "ipython",
    "version": 3
   },
   "file_extension": ".py",
   "mimetype": "text/x-python",
   "name": "python",
   "nbconvert_exporter": "python",
   "pygments_lexer": "ipython3",
   "version": "3.7.6"
  }
 },
 "nbformat": 4,
 "nbformat_minor": 4
}
